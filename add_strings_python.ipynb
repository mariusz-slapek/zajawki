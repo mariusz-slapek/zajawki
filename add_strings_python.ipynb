{
  "nbformat": 4,
  "nbformat_minor": 0,
  "metadata": {
    "colab": {
      "name": "dodawanie_stringów_python.ipynb",
      "provenance": [],
      "collapsed_sections": [],
      "authorship_tag": "ABX9TyPw21vqg9hMkkIeVNJGR8bz",
      "include_colab_link": true
    },
    "kernelspec": {
      "name": "python3",
      "display_name": "Python 3"
    },
    "language_info": {
      "name": "python"
    }
  },
  "cells": [
    {
      "cell_type": "markdown",
      "metadata": {
        "id": "view-in-github",
        "colab_type": "text"
      },
      "source": [
        "<a href=\"https://colab.research.google.com/github/mslapek1/zajawki/blob/main/add_strings_python.ipynb\" target=\"_parent\"><img src=\"https://colab.research.google.com/assets/colab-badge.svg\" alt=\"Open In Colab\"/></a>"
      ]
    },
    {
      "cell_type": "code",
      "metadata": {
        "id": "WFfXmhI17Qg3"
      },
      "source": [
        "import timeit\n",
        "import lorem"
      ],
      "execution_count": null,
      "outputs": []
    },
    {
      "cell_type": "markdown",
      "metadata": {
        "id": "BJBAl1pu-uJI"
      },
      "source": [
        "# Zadanie rekrutacyjne\n",
        "\n",
        "Jak dodawać stringi w Pythonie?\n",
        "\n"
      ]
    },
    {
      "cell_type": "code",
      "metadata": {
        "colab": {
          "base_uri": "https://localhost:8080/"
        },
        "id": "lr-RpgzPRv_S",
        "outputId": "b1dd7715-0e8f-40bc-e866-970e0a02a59b"
      },
      "source": [
        "lorem.text().split()"
      ],
      "execution_count": null,
      "outputs": [
        {
          "output_type": "execute_result",
          "data": {
            "text/plain": [
              "['Aliquam',\n",
              " 'labore',\n",
              " 'adipisci',\n",
              " 'porro',\n",
              " 'sed.',\n",
              " 'Voluptatem',\n",
              " 'quisquam',\n",
              " 'sed',\n",
              " 'labore',\n",
              " 'labore',\n",
              " 'amet.',\n",
              " 'Est',\n",
              " 'est',\n",
              " 'ut',\n",
              " 'etincidunt',\n",
              " 'quisquam',\n",
              " 'consectetur',\n",
              " 'magnam',\n",
              " 'sit.',\n",
              " 'Voluptatem',\n",
              " 'sed',\n",
              " 'amet',\n",
              " 'sed.',\n",
              " 'Non',\n",
              " 'est',\n",
              " 'aliquam',\n",
              " 'quisquam',\n",
              " 'tempora.',\n",
              " 'Quaerat',\n",
              " 'quisquam',\n",
              " 'aliquam',\n",
              " 'quisquam',\n",
              " 'numquam',\n",
              " 'magnam',\n",
              " 'est.',\n",
              " 'Quisquam',\n",
              " 'quiquia',\n",
              " 'neque',\n",
              " 'labore',\n",
              " 'neque',\n",
              " 'modi',\n",
              " 'ipsum',\n",
              " 'sed.',\n",
              " 'Quisquam',\n",
              " 'ipsum',\n",
              " 'labore',\n",
              " 'amet',\n",
              " 'sed.',\n",
              " 'Dolore',\n",
              " 'sed',\n",
              " 'sit',\n",
              " 'adipisci.',\n",
              " 'Est',\n",
              " 'dolor',\n",
              " 'quiquia',\n",
              " 'non',\n",
              " 'modi',\n",
              " 'labore',\n",
              " 'magnam.',\n",
              " 'Dolore',\n",
              " 'modi',\n",
              " 'magnam',\n",
              " 'ut',\n",
              " 'magnam',\n",
              " 'non.',\n",
              " 'Eius',\n",
              " 'aliquam',\n",
              " 'consectetur',\n",
              " 'est',\n",
              " 'neque',\n",
              " 'eius.',\n",
              " 'Labore',\n",
              " 'labore',\n",
              " 'est',\n",
              " 'aliquam',\n",
              " 'eius.',\n",
              " 'Velit',\n",
              " 'eius',\n",
              " 'consectetur',\n",
              " 'magnam.',\n",
              " 'Velit',\n",
              " 'porro',\n",
              " 'dolor',\n",
              " 'sit',\n",
              " 'sed.',\n",
              " 'Dolorem',\n",
              " 'labore',\n",
              " 'quaerat',\n",
              " 'non',\n",
              " 'numquam',\n",
              " 'consectetur',\n",
              " 'dolorem.',\n",
              " 'Consectetur',\n",
              " 'voluptatem',\n",
              " 'etincidunt',\n",
              " 'est.',\n",
              " 'Ipsum',\n",
              " 'dolorem',\n",
              " 'velit',\n",
              " 'tempora.',\n",
              " 'Velit',\n",
              " 'magnam',\n",
              " 'quisquam',\n",
              " 'non',\n",
              " 'adipisci.',\n",
              " 'Labore',\n",
              " 'modi',\n",
              " 'sed',\n",
              " 'est',\n",
              " 'magnam',\n",
              " 'consectetur',\n",
              " 'amet',\n",
              " 'sit.',\n",
              " 'Tempora',\n",
              " 'adipisci',\n",
              " 'numquam',\n",
              " 'ipsum.',\n",
              " 'Quiquia',\n",
              " 'sed',\n",
              " 'dolore',\n",
              " 'dolorem',\n",
              " 'est.',\n",
              " 'Consectetur',\n",
              " 'aliquam',\n",
              " 'amet',\n",
              " 'quiquia',\n",
              " 'ipsum',\n",
              " 'voluptatem.',\n",
              " 'Porro',\n",
              " 'adipisci',\n",
              " 'eius',\n",
              " 'ut.',\n",
              " 'Dolorem',\n",
              " 'adipisci',\n",
              " 'consectetur',\n",
              " 'consectetur',\n",
              " 'numquam',\n",
              " 'labore',\n",
              " 'ut',\n",
              " 'magnam.',\n",
              " 'Non',\n",
              " 'quiquia',\n",
              " 'adipisci',\n",
              " 'amet',\n",
              " 'numquam',\n",
              " 'tempora.',\n",
              " 'Velit',\n",
              " 'consectetur',\n",
              " 'neque',\n",
              " 'tempora',\n",
              " 'amet',\n",
              " 'quaerat.',\n",
              " 'Etincidunt',\n",
              " 'aliquam',\n",
              " 'neque',\n",
              " 'quisquam',\n",
              " 'numquam.',\n",
              " 'Non',\n",
              " 'ipsum',\n",
              " 'sed',\n",
              " 'velit',\n",
              " 'porro',\n",
              " 'neque.',\n",
              " 'Est',\n",
              " 'quaerat',\n",
              " 'aliquam',\n",
              " 'tempora',\n",
              " 'ut.',\n",
              " 'Ipsum',\n",
              " 'modi',\n",
              " 'eius',\n",
              " 'sed',\n",
              " 'sed',\n",
              " 'dolore',\n",
              " 'dolore',\n",
              " 'est.',\n",
              " 'Etincidunt',\n",
              " 'quisquam',\n",
              " 'sed',\n",
              " 'non.']"
            ]
          },
          "metadata": {
            "tags": []
          },
          "execution_count": 28
        }
      ]
    },
    {
      "cell_type": "code",
      "metadata": {
        "id": "uTYe6pXX7he9"
      },
      "source": [
        "strings = ['I', ' ', 'love', ' ', 'Data', ' ', 'Science']\n",
        "bigger_strings = lorem.text().split()"
      ],
      "execution_count": null,
      "outputs": []
    },
    {
      "cell_type": "code",
      "metadata": {
        "id": "r92Aj5zZ-Ga2"
      },
      "source": [
        "def join_strings_1(strings):\n",
        "  out = ' '\n",
        "  \n",
        "  for string in strings:\n",
        "    out += string # string1 + string2\n",
        "  \n",
        "  return out "
      ],
      "execution_count": null,
      "outputs": []
    },
    {
      "cell_type": "code",
      "metadata": {
        "colab": {
          "base_uri": "https://localhost:8080/",
          "height": 35
        },
        "id": "DpsV1uH5SgqG",
        "outputId": "1906b550-5eeb-43c9-a6c1-2e6e5f358804"
      },
      "source": [
        "\"Hello \" + \"Data\" "
      ],
      "execution_count": null,
      "outputs": [
        {
          "output_type": "execute_result",
          "data": {
            "application/vnd.google.colaboratory.intrinsic+json": {
              "type": "string"
            },
            "text/plain": [
              "'Hello Data'"
            ]
          },
          "metadata": {
            "tags": []
          },
          "execution_count": 39
        }
      ]
    },
    {
      "cell_type": "code",
      "metadata": {
        "id": "I5zCDzdL-O0V"
      },
      "source": [
        "def join_strings_2(strings):\n",
        "  return ''.join(strings)"
      ],
      "execution_count": null,
      "outputs": []
    },
    {
      "cell_type": "code",
      "metadata": {
        "id": "5bK6B6tzSlNy",
        "colab": {
          "base_uri": "https://localhost:8080/",
          "height": 35
        },
        "outputId": "df1157d9-e29d-4a5f-c81d-44e1bf23928f"
      },
      "source": [
        "''.join([\"Hello\", ' Data'])"
      ],
      "execution_count": null,
      "outputs": [
        {
          "output_type": "execute_result",
          "data": {
            "application/vnd.google.colaboratory.intrinsic+json": {
              "type": "string"
            },
            "text/plain": [
              "'Hello Data'"
            ]
          },
          "metadata": {
            "tags": []
          },
          "execution_count": 40
        }
      ]
    },
    {
      "cell_type": "code",
      "metadata": {
        "id": "WKOJYnru-l7j"
      },
      "source": [
        "from io import StringIO\n",
        "\n",
        "def join_strings_3(strings):\n",
        "    buffer = StringIO()\n",
        "\n",
        "    for string in strings:\n",
        "        buffer.write(string)\n",
        "  \n",
        "    return buffer.getvalue()"
      ],
      "execution_count": null,
      "outputs": []
    },
    {
      "cell_type": "markdown",
      "metadata": {
        "id": "Fh7TLTX5AnL3"
      },
      "source": [
        "## Testy"
      ]
    },
    {
      "cell_type": "code",
      "metadata": {
        "colab": {
          "base_uri": "https://localhost:8080/"
        },
        "id": "zCcjHUdIAmRH",
        "outputId": "cf7901d6-2019-4563-e6d2-28b1421332e0"
      },
      "source": [
        "%timeit join_strings_1(strings)"
      ],
      "execution_count": null,
      "outputs": [
        {
          "output_type": "stream",
          "text": [
            "The slowest run took 7.47 times longer than the fastest. This could mean that an intermediate result is being cached.\n",
            "1000000 loops, best of 5: 719 ns per loop\n"
          ],
          "name": "stdout"
        }
      ]
    },
    {
      "cell_type": "code",
      "metadata": {
        "colab": {
          "base_uri": "https://localhost:8080/"
        },
        "id": "7nsg3ObGAv2D",
        "outputId": "496a81de-c7e1-42ba-946f-ed56e790ae6b"
      },
      "source": [
        "%timeit join_strings_2(strings)"
      ],
      "execution_count": null,
      "outputs": [
        {
          "output_type": "stream",
          "text": [
            "The slowest run took 16.75 times longer than the fastest. This could mean that an intermediate result is being cached.\n",
            "1000000 loops, best of 5: 230 ns per loop\n"
          ],
          "name": "stdout"
        }
      ]
    },
    {
      "cell_type": "code",
      "metadata": {
        "colab": {
          "base_uri": "https://localhost:8080/"
        },
        "id": "31zQ1ikmAzMp",
        "outputId": "f9b8490e-eb97-44bf-b321-5ed92fc2f362"
      },
      "source": [
        "%timeit join_strings_3(strings)"
      ],
      "execution_count": null,
      "outputs": [
        {
          "output_type": "stream",
          "text": [
            "The slowest run took 5.89 times longer than the fastest. This could mean that an intermediate result is being cached.\n",
            "1000000 loops, best of 5: 1.21 µs per loop\n"
          ],
          "name": "stdout"
        }
      ]
    },
    {
      "cell_type": "code",
      "metadata": {
        "colab": {
          "base_uri": "https://localhost:8080/"
        },
        "id": "swiRita_BBEf",
        "outputId": "a3cf6e20-831f-4f6c-c9b0-b37ba86fae54"
      },
      "source": [
        "%timeit join_strings_1(bigger_strings)"
      ],
      "execution_count": null,
      "outputs": [
        {
          "output_type": "stream",
          "text": [
            "10000 loops, best of 5: 20.9 µs per loop\n"
          ],
          "name": "stdout"
        }
      ]
    },
    {
      "cell_type": "code",
      "metadata": {
        "colab": {
          "base_uri": "https://localhost:8080/"
        },
        "id": "izxApmTWB8VI",
        "outputId": "37eaff57-e891-4229-b455-7401b9685700"
      },
      "source": [
        "%timeit join_strings_2(bigger_strings)"
      ],
      "execution_count": null,
      "outputs": [
        {
          "output_type": "stream",
          "text": [
            "The slowest run took 5.56 times longer than the fastest. This could mean that an intermediate result is being cached.\n",
            "100000 loops, best of 5: 2.14 µs per loop\n"
          ],
          "name": "stdout"
        }
      ]
    },
    {
      "cell_type": "code",
      "metadata": {
        "colab": {
          "base_uri": "https://localhost:8080/"
        },
        "id": "0_RLOORtB-2b",
        "outputId": "bb8f092b-ea7e-404d-b301-d44b21c9fd6c"
      },
      "source": [
        "%timeit join_strings_3(bigger_strings)"
      ],
      "execution_count": null,
      "outputs": [
        {
          "output_type": "stream",
          "text": [
            "10000 loops, best of 5: 20.7 µs per loop\n"
          ],
          "name": "stdout"
        }
      ]
    },
    {
      "cell_type": "code",
      "metadata": {
        "id": "el9z3KwhCBUp"
      },
      "source": [
        ""
      ],
      "execution_count": null,
      "outputs": []
    }
  ]
}